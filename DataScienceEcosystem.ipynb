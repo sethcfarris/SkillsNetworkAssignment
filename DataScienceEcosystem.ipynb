{
 "cells": [
  {
   "cell_type": "markdown",
   "id": "5308f369-ec92-4b89-aeb0-5c602e303833",
   "metadata": {},
   "source": [
    "# Data Science Tools and Ecosystem"
   ]
  },
  {
   "cell_type": "markdown",
   "id": "7b01b0bd-c785-4c8e-9cd2-a55097a18a12",
   "metadata": {},
   "source": [
    "**Objectives:**\n",
    "\n",
    "-  List popular languages in Data Science\n",
    "-  List commonly used libraries used in Data Science\n",
    "-  List popular data science tools\n",
    "-  Provide examples of arithmetic expressions in Python"
   ]
  },
  {
   "cell_type": "markdown",
   "id": "6456793e-43a1-445d-9dd8-3cbbfd7cf3dc",
   "metadata": {},
   "source": [
    "In this notebook, Data Science Tools and Ecosystem are summarized."
   ]
  },
  {
   "cell_type": "markdown",
   "id": "29baffa2-218d-4ec9-97e0-d75fbc5b2424",
   "metadata": {},
   "source": [
    "Some of the popular languages that Data Scientists use are:\n",
    "1. R\n",
    "2. Python\n",
    "3. SQL"
   ]
  },
  {
   "cell_type": "markdown",
   "id": "1ed5ecc4-17c2-4d0c-b0cb-b80ba4951d2f",
   "metadata": {},
   "source": [
    "Some of the commonly used libraries used by Data Scientists include:\n",
    "1. Scrapy\n",
    "2. NumPy\n",
    "3. SciPy"
   ]
  },
  {
   "cell_type": "markdown",
   "id": "fa8730f3-873f-4545-bc5c-06b4aa123528",
   "metadata": {},
   "source": [
    "|Data Science Tools|\n",
    "|-----------|\n",
    "|JupyterLab|\n",
    "|Spyder|\n",
    "|Viscual Studio Code|"
   ]
  },
  {
   "cell_type": "markdown",
   "id": "67583a69-870c-419a-a6ec-a8ece08a6f07",
   "metadata": {},
   "source": [
    "### Below are a few examples of evaluating arithmetic expressions in Python\n"
   ]
  },
  {
   "cell_type": "code",
   "execution_count": 2,
   "id": "a36775d2-3b2b-41cd-9921-c1c12498ac6c",
   "metadata": {
    "tags": []
   },
   "outputs": [
    {
     "data": {
      "text/plain": [
       "17"
      ]
     },
     "execution_count": 2,
     "metadata": {},
     "output_type": "execute_result"
    }
   ],
   "source": [
    "(3*4)+5"
   ]
  },
  {
   "cell_type": "code",
   "execution_count": 6,
   "id": "6d295fe5-a7e3-4440-877f-af62b1fb4b68",
   "metadata": {},
   "outputs": [
    {
     "data": {
      "text/plain": [
       "3.3333333333333335"
      ]
     },
     "execution_count": 6,
     "metadata": {},
     "output_type": "execute_result"
    }
   ],
   "source": [
    "##This will convert 200 minutes to hours by diving by 60##\n",
    "200/60"
   ]
  },
  {
   "cell_type": "markdown",
   "id": "af06c426-1953-45ed-a06e-7dc6fba290f7",
   "metadata": {},
   "source": [
    "## Author\n",
    "Seth Farris"
   ]
  },
  {
   "cell_type": "code",
   "execution_count": null,
   "id": "6e66cf40-2aa9-4e00-afc8-698d8b9e679b",
   "metadata": {},
   "outputs": [],
   "source": []
  }
 ],
 "metadata": {
  "kernelspec": {
   "display_name": "Python",
   "language": "python",
   "name": "conda-env-python-py"
  },
  "language_info": {
   "codemirror_mode": {
    "name": "ipython",
    "version": 3
   },
   "file_extension": ".py",
   "mimetype": "text/x-python",
   "name": "python",
   "nbconvert_exporter": "python",
   "pygments_lexer": "ipython3",
   "version": "3.7.12"
  }
 },
 "nbformat": 4,
 "nbformat_minor": 5
}
